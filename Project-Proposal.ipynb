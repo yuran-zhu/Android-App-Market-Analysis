{
 "cells": [
  {
   "cell_type": "markdown",
   "metadata": {},
   "source": [
    "# Android App Market Analysis - What Makes an App Popular?\n",
    "## Project Proposal"
   ]
  },
  {
   "cell_type": "markdown",
   "metadata": {},
   "source": [
    "*95-885 Data Science and Big Data - Project 1: Exploratory Data Analysis*"
   ]
  },
  {
   "cell_type": "markdown",
   "metadata": {},
   "source": [
    "**Team 15<br>\n",
    "Daniel You (sangwony)<br>\n",
    "Jiaxuan Zhang (jiaxuanz)<br>\n",
    "Yuran Zhu (yuranz)**"
   ]
  },
  {
   "cell_type": "markdown",
   "metadata": {},
   "source": [
    "## I. Motivation"
   ]
  },
  {
   "cell_type": "markdown",
   "metadata": {},
   "source": [
    "### 1. Key Motivation\n",
    "\n",
    "As science and technology have been advanced swiftly, app markets are full of opportunities as well as challenges. While many public datasets provide Apple App Store data, there are not many counterpart datasets and visualization available for Google Play Store apps anywhere on the web. For the app-making business, we aim to provide the developers with some actionable insights in the Android market through the visualization of Google Play Store apps data."
   ]
  },
  {
   "cell_type": "markdown",
   "metadata": {},
   "source": [
    "### 2. Significance & Potential Value\n",
    "\n",
    "With over 2.7 billion smartphone users across the world, it’s no surprise that the mobile app industry is thriving. App usage and smartphone penetration are still growing at a steady rate, without any signs of slowing down in the foreseeable future. \n",
    "\n",
    "According to some [statistics](https://buildfire.com/app-statistics/), the Apple App Store has 2.2 million apps available for download while there are 2.8 million apps on the Google Play Store. Besides, the developers need to pay Apple \\\\$99/year to keep your app online, but only [$25 one time for Google Play Store](https://yalantis.com/blog/apple-app-store-and-google-play-store/). Given the more strict and slower apps released process in the Apple Store, many developers are more satisfied with the policies of Android apps. Therefore, a thorough analysis of the Google Play Store data is very important for the developers who want to put more effort into the Android market. In the long run, it may create enormous values for both the public and private sectors to keep up with the era of mobile internet.  \n"
   ]
  },
  {
   "cell_type": "markdown",
   "metadata": {},
   "source": [
    "## II. Related Work"
   ]
  },
  {
   "cell_type": "markdown",
   "metadata": {},
   "source": [
    "This problem originated from some [articles](https://www.theverge.com/2020/8/7/21358355/facebook-apple-app-store-policies-comments-facebook-gaming-ios) about the Apple Store policy conflicts that we read. Then a question occurs to us: what if the developers want to switch from IOS to Android and they need to know about the app developing situation in the Android market? While the Android market is as important as the IOS market in many countries, there is not so much public dataset and analysis for it. Before we walk further into this problem, we want to question, wrangle, and explore the datasets we found on [Kaggle](https://www.kaggle.com/lava18/google-play-store-apps) using the visualizing and storytelling skills we discussed in class. "
   ]
  },
  {
   "cell_type": "markdown",
   "metadata": {},
   "source": [
    "## III. Data"
   ]
  },
  {
   "cell_type": "markdown",
   "metadata": {},
   "source": [
    "### 1. Nature of Data\n",
    "\n",
    "The data is scraped from the Google Play Store and is available at [Kaggle](https://www.kaggle.com/lava18/google-play-store-apps). The portfolio contains **two datasets** and we plan to analyze both of them for developing a comprehensive data exploration. Therefore, the data we use is spread across two tables and we'll join them together in further analysis.\n",
    "\n",
    "One dataset includes app information, having values for category, rating, size, download counts. etc. The other dataset contains data for app reviews, each row refers to a single review and corresponding analysis for an App.\n",
    "\n",
    "#### Apps Information Data\n",
    "\n",
    "The dataset consists of **13 columns** and **10,842 rows**. Each row refers to a single Android app, and each column refers to one app characteristics, such as App category, overall ratings, size, price. All the columns are in object types except for the `Rating` columns, which is float type. With initial data exploration, we find:\n",
    "- The `Installs` column can be one of the dependable variables that can be categorized into 22 bins by numbers of installs. \n",
    "- The `Rating` column is missing 1,474 variables, the mean value is 4.19 and the standard deviation is 0.54.\n",
    "- The `Type` column is missing 1 variable and has 3 unique values.\n",
    "- The `Content Rating` is missing 1 variable and has 6 unique values.\n",
    "- The `Current Ver` column is missing 8 variables and has 10,833 unique values.\n",
    "- The `Android Ver` column is missing 3 variables and has 33 unique values.\n",
    "\n",
    "\n",
    "#### Users Review Data\n",
    "\n",
    "This dataset consists of **5 columns** and **64,295 rows**. Each row refers to a single user review for an App, including values of sentiment type (positive/negative) and scores of sentiment polarity and sentiment subjectivity. **26,862 rows** contain missing values for `Translated_Review`, `Sentiment`, `Sentiment_Polarity`, `Sentiment_Subjectivity` columns. Therefore, we need to clean data first.\n",
    "\n",
    "To conclude, the data is not clean so we need to perform data prepossessing before starting to analyze and visualize."
   ]
  },
  {
   "cell_type": "markdown",
   "metadata": {},
   "source": [
    "### 2. Other Data Use\n",
    "\n",
    "To our knowledge this data has been used in other projects especially related to Kaggle. We noticed that on Kaggle there are a lot of participants who used data to get interesting findings for their purpose, for example: \n",
    "\n",
    "- Tinotenda Mhalanga used the dataset to find the most popular category that has the largest number of installs. \n",
    "- Shoumik performed the feature engineering to come up with novel features based on the functional understanding of the dataset.\n",
    "- Anita Soni used google play store apps dataset to find apps that require GPS permission."
   ]
  },
  {
   "cell_type": "markdown",
   "metadata": {},
   "source": [
    "## IV. Question"
   ]
  },
  {
   "cell_type": "markdown",
   "metadata": {},
   "source": [
    "### 1. Interesting Problems\n",
    "\n",
    "With the dataset, we’re able to analyze the Google Play store market and seek answers for the questions related to the app variety, pricing strategy, app size, and content design. More specifically, we expect to answer the following questions that are interesting to both app developers and users. \n",
    "\n",
    "1. What categories of apps are most available/popular?\n",
    "2. Do paid apps perform better than free apps? For paid apps, do those with higher ratings commonly have a price in a reasonable range? What categories tend to set higher prices?\n",
    "3. Do users prefer apps with lighter size? That is to say, for each category, are top-rated apps tend to have less size? Can we find a reasonable range of an app size?\n",
    "4. Among current apps, which categories receive the most positive reviews? What factors make an app positively/negatively evaluated? "
   ]
  },
  {
   "cell_type": "markdown",
   "metadata": {},
   "source": [
    "### 2. How to Address Questions\n",
    "\n",
    "Using data analysis skills and visualization techniques, we can address each of the above questions from different perspectives.\n",
    "\n",
    "- For Question 1, we will explore the total number of apps for comparing the availability, and analyze the popularity from the perspectives of installations, ratings, and reviews.\n",
    "- For Question 2, we will mainly evaluate the performance through ratings. Based on the category grouping, we can explore the distribution of app ratings and prices, to reveal the relationship between them and detect a reasonable price range.\n",
    "- For Question 3, we plan to visualize how ratings and download counts vary by app sizes for different categories. We expect to find a reasonable range of app size from the visualization.\n",
    "- For Question 4, we’ll focus on the reviews dataset. Using sentiment polarity data, we can analyze review sentiment differences between categories.Through generating word clouds for positive reviews and negative reviews, we could find the most common words, and especially, we could notice important factors that lead users to like or dislike an app. "
   ]
  },
  {
   "cell_type": "markdown",
   "metadata": {},
   "source": [
    "### 3. Workflow\n",
    "1. Data prepossessing\n",
    "<br>\n",
    "2. Category by category analysis\n",
    "    - App availability and popularity\n",
    "    - Share of free and paid apps\n",
    "    - For paid apps: how ratings/download counts vary by prices\n",
    "    - How ratings/download counts vary by size\n",
    "    - Find a reasonable range for pricing strategy and app size design\n",
    "<br>\n",
    "3. Reviews analysis\n",
    "    - Sentiment analysis by categories\n",
    "    - Word clouds for positive and negative reviews\n",
    "    - Explore factors that users are concerned about an app\n",
    "<br>\n",
    "4. Summarize findings and develop conclusions"
   ]
  },
  {
   "cell_type": "markdown",
   "metadata": {},
   "source": [
    "## V. Possible Findings and Implications"
   ]
  },
  {
   "cell_type": "markdown",
   "metadata": {},
   "source": [
    "At the current stage, we aim to answer the questions we brought up above, which can further provide insights for app developers and reveal some facts about user preferences. We expect to have the following findings:\n",
    "\n",
    "- From analyzing the availability and popularity of different categories, to detect what kinds of apps may face larger market needs and developing opportunities.\n",
    "- From analyzing how ratings and download counts vary by prices, we aim to find a reasonable range of price setting for paid apps. With this insight, developers can optimize their price strategy to attract users and make profits.\n",
    "- From analyzing how ratings and download counts vary by size, we can provide suggestions for developers to consider how to optimize their apps.\n",
    "- From analyzing apps reviews, we can find common factors that matter for users in evaluating apps, which is helpful for developers in the designing phase.\n",
    "\n",
    "Overall, we hope to reveal some facts about user preferences in choosing and evaluating apps, and provide suggestions for developers on finding Android market opportunities, improving  pricing strategies and app design.\n"
   ]
  },
  {
   "cell_type": "code",
   "execution_count": null,
   "metadata": {},
   "outputs": [],
   "source": []
  }
 ],
 "metadata": {
  "kernelspec": {
   "display_name": "Python 3",
   "language": "python",
   "name": "python3"
  },
  "language_info": {
   "codemirror_mode": {
    "name": "ipython",
    "version": 3
   },
   "file_extension": ".py",
   "mimetype": "text/x-python",
   "name": "python",
   "nbconvert_exporter": "python",
   "pygments_lexer": "ipython3",
   "version": "3.8.2"
  }
 },
 "nbformat": 4,
 "nbformat_minor": 4
}
